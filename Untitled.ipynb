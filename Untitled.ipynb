{
 "cells": [
  {
   "cell_type": "code",
   "execution_count": 3,
   "id": "3ca5a9bb-8d89-4504-bd2a-cee646233945",
   "metadata": {},
   "outputs": [],
   "source": [
    "def regist(name, sex, *args):\n",
    "    print(name)\n",
    "    print(sex)\n",
    "    address = args[0] if len(args) > 0 else None\n",
    "    p_num = args[1] if len(args) > 1 else None\n",
    "    print(address)\n",
    "    print(p_num)"
   ]
  },
  {
   "cell_type": "code",
   "execution_count": 5,
   "id": "5cf50086-8634-4fd8-8093-fad21c8f35f0",
   "metadata": {},
   "outputs": [
    {
     "name": "stdout",
     "output_type": "stream",
     "text": [
      "kim\n",
      "male\n",
      "seoul\n",
      "None\n"
     ]
    }
   ],
   "source": [
    "regist('kim','male','seoul')"
   ]
  },
  {
   "cell_type": "code",
   "execution_count": 6,
   "id": "a24a37a7-839a-4ad6-9aca-8129230deae5",
   "metadata": {},
   "outputs": [
    {
     "name": "stdout",
     "output_type": "stream",
     "text": [
      "kim\n",
      "male\n",
      "seoul\n",
      "010\n"
     ]
    }
   ],
   "source": [
    "regist('kim','male','seoul','010')"
   ]
  },
  {
   "cell_type": "code",
   "execution_count": 8,
   "id": "e6aacf90-cb9d-40e3-b934-a0d1b5334b95",
   "metadata": {},
   "outputs": [],
   "source": [
    "def regist(name, sex, **kwargs):\n",
    "\tprint(name)\n",
    "\tprint(sex)\n",
    "\taddress = kwargs.get('address') or None\n",
    "\tp_num = kwargs.get('p_num') or None\n",
    "\tprint(address)\n",
    "\tprint(p_num)"
   ]
  },
  {
   "cell_type": "code",
   "execution_count": 9,
   "id": "6f477b96-f8e7-4b37-8bf4-e872ba5a1d34",
   "metadata": {},
   "outputs": [
    {
     "name": "stdout",
     "output_type": "stream",
     "text": [
      "kim\n",
      "male\n",
      "seoul\n",
      "010\n"
     ]
    }
   ],
   "source": [
    "regist('kim','male',address='seoul',p_num='010')"
   ]
  },
  {
   "cell_type": "code",
   "execution_count": 10,
   "id": "0a83266b-26aa-4182-9bba-8457849208cf",
   "metadata": {},
   "outputs": [
    {
     "name": "stdout",
     "output_type": "stream",
     "text": [
      "kim\n",
      "male\n",
      "seoul\n",
      "010\n"
     ]
    }
   ],
   "source": [
    "regist(name='kim',sex='male',address='seoul',p_num='010')"
   ]
  },
  {
   "cell_type": "code",
   "execution_count": 11,
   "id": "83c9bf42-e7a1-4b56-90ed-e1eaf01378c1",
   "metadata": {},
   "outputs": [],
   "source": [
    "def regist(name, sex, *args, **kwargs): \n",
    "\t\t\t\tprint(name)\n",
    "\t\t\t\tprint(sex)\n",
    "\t\t\t\tprint(args)\n",
    "\t\t\t\tprint(kwargs)"
   ]
  },
  {
   "cell_type": "code",
   "execution_count": 12,
   "id": "ca25a52d-efe6-42df-bb33-c0f8e78d9efb",
   "metadata": {},
   "outputs": [
    {
     "name": "stdout",
     "output_type": "stream",
     "text": [
      "kim\n",
      "male\n",
      "('seoul', '010')\n",
      "{}\n"
     ]
    }
   ],
   "source": [
    "regist('kim','male', 'seoul','010')"
   ]
  },
  {
   "cell_type": "code",
   "execution_count": 13,
   "id": "c5182fce-0a37-495e-9a4c-fca3c4cc8153",
   "metadata": {},
   "outputs": [
    {
     "name": "stdout",
     "output_type": "stream",
     "text": [
      "kim\n",
      "male\n",
      "('seoul',)\n",
      "{'p_num': '010'}\n"
     ]
    }
   ],
   "source": [
    "regist('kim','male', 'seoul',p_num='010')"
   ]
  },
  {
   "cell_type": "code",
   "execution_count": 14,
   "id": "e2292b83-1a3a-4301-94e7-417de2f35bd3",
   "metadata": {},
   "outputs": [
    {
     "name": "stdout",
     "output_type": "stream",
     "text": [
      "kim\n",
      "male\n",
      "()\n",
      "{'address': 'seoul', 'p_num': '010'}\n"
     ]
    }
   ],
   "source": [
    "regist('kim','male', address='seoul',p_num='010')"
   ]
  }
 ],
 "metadata": {
  "kernelspec": {
   "display_name": "Python 3 (ipykernel)",
   "language": "python",
   "name": "python3"
  },
  "language_info": {
   "codemirror_mode": {
    "name": "ipython",
    "version": 3
   },
   "file_extension": ".py",
   "mimetype": "text/x-python",
   "name": "python",
   "nbconvert_exporter": "python",
   "pygments_lexer": "ipython3",
   "version": "3.12.3"
  }
 },
 "nbformat": 4,
 "nbformat_minor": 5
}
